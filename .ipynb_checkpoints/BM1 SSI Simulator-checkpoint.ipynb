{
 "cells": [
  {
   "cell_type": "markdown",
   "metadata": {},
   "source": [
    "# Bacman1 Silica Simulator Index"
   ]
  },
  {
   "cell_type": "code",
   "execution_count": 13,
   "metadata": {
    "collapsed": true
   },
   "outputs": [],
   "source": [
    "import math"
   ]
  },
  {
   "cell_type": "markdown",
   "metadata": {},
   "source": [
    "## Define a Class for Production Well\n",
    "\n",
    "The p_well class will define a production well with its well name, operating wellhead pressure, silica (td), separator pressure and bore output curve functions"
   ]
  },
  {
   "cell_type": "code",
   "execution_count": 14,
   "metadata": {
    "collapsed": true
   },
   "outputs": [],
   "source": [
    "class p_well:\n",
    "    def __init__(self, name, opwhp, sio2_td, svp, fx):\n",
    "        self.name = name\n",
    "        self.opwhp = opwhp\n",
    "        self.sio2_td = sio2_td\n",
    "        self.svp = svp\n",
    "        self.enthalpy = fx(opwhp)[0]\n",
    "        self.mass_flow = fx(opwhp)[1]\n",
    "        self.water_flow = fx(opwhp)[2]\n",
    "        self.t_svp = t_sat(svp) #calculate saturated temp at separator station\n",
    "        self.sio2_sep = sio2_td/(self.water_flow/self.mass_flow)    #calculate sio2 conc \n",
    "                                            #at separator pressure [sio2(td)/Water Fraction]        \n",
    "        self.pw_ssi = self.sio2_sep/sio2_theo(self.t_svp)   #calculate SSI of production well at separator pressure"
   ]
  },
  {
   "cell_type": "markdown",
   "metadata": {},
   "source": [
    "## Utility functions for SSI calculation"
   ]
  },
  {
   "cell_type": "code",
   "execution_count": 15,
   "metadata": {
    "collapsed": true
   },
   "outputs": [],
   "source": [
    "def sio2_theo(temp):\n",
    "    \"\"\"\n",
    "    This function will calculate the theoretical SiO2 concentration \n",
    "    at the given brine line temperature in degree celcius \n",
    "    \"\"\"\n",
    "    y = ((-731/(temp+273.15))+4.52)\n",
    "    sio2_theo = math.pow(10,y)\n",
    "    return sio2_theo\n",
    "\n",
    "def ssi_p(p_sat,sio2_meas):\n",
    "    temp = t_sat(p_sat)\n",
    "    sio2_calc = sio2_theo(temp)\n",
    "    ssi = sio2_meas / sio2_calc\n",
    "    return ssi\n",
    "\n",
    "def t_sat(p_sat):\n",
    "    \"\"\"\n",
    "    This function will calculate the saturation temperature (deg C) from a\n",
    "    given saturated pressure (Mpaa) megapascal absolute\n",
    "    \"\"\"\n",
    "    t_sat = 1 / (0.0022078 - 0.00046828 * math.log10(p_sat) / math.log10(10) - 0.0000099586 * \\\n",
    "        (math.log10(p_sat) / math.log10(10))* (math.log10(p_sat) / math.log10(10))) - 273.15\n",
    "    return t_sat"
   ]
  },
  {
   "cell_type": "markdown",
   "metadata": {},
   "source": [
    "## Bore Output Curve function for each production well"
   ]
  },
  {
   "cell_type": "code",
   "execution_count": 16,
   "metadata": {
    "collapsed": true
   },
   "outputs": [],
   "source": [
    "def PAL3D_fx(WHP):\n",
    "    hf = 738.8\n",
    "    hfg = 2034.5\n",
    "    H =-2.30 * WHP + 1281.46\n",
    "    x=(H-hf)/hfg\n",
    "    MF = 35.52 + 7.28 * WHP + 4.74 * WHP * WHP - 14.79 * WHP * WHP * WHP\n",
    "    WF = MF*(1-x)    \n",
    "    return [H,MF,WF]\n",
    "    \n",
    "def PAL4D_fx(WHP):\n",
    "    hf = 738.8\n",
    "    hfg = 2034.5\n",
    "    H =-102.4 * WHP + 1474.39\n",
    "    x=(H-hf)/hfg\n",
    "    MF = 25.48 + 16.84 * WHP - 18.82 * WHP * WHP\n",
    "    WF = MF*(1-x)    \n",
    "    return [H,MF,WF]\n",
    "\n",
    "def PAL8D_fx(WHP):\n",
    "    hf = 738.8\n",
    "    hfg = 2034.5\n",
    "    H = 1420.08 + 271.35 * WHP - 270.78 *WHP^2 + 121.27 * WHP^3 - 22.37 *WHP^4\n",
    "    x=(H-hf)/hfg\n",
    "    MF = 48.93 + 37.32 * WHP - 16.85 * WHP * WHP\n",
    "    WF = MF*(1-x)    \n",
    "    return [H,MF,WF]\n",
    "\n",
    "def PAL9D_fx(WHP):\n",
    "    hf = 738.8\n",
    "    hfg = 2034.5\n",
    "    H = -8.64 * WHP + 1355.15\n",
    "    x=(H-hf)/hfg\n",
    "    MF = 40.36 + 18.85 * WHP - 19.00 * WHP * WHP\n",
    "    WF = MF*(1-x)    \n",
    "    return [H,MF,WF]\n",
    "\n",
    "def PAL10D_fx(WHP):\n",
    "    hf = 738.8\n",
    "    hfg = 2034.5\n",
    "    H = 121.70 * WHP + 1864.32\n",
    "    x=(H-hf)/hfg\n",
    "    MF =  -8.75 * WHP + 43.44\n",
    "    WF = MF*(1-x)    \n",
    "    return [H,MF,WF]\n",
    "\n",
    "def PAL11D_fx(WHP):\n",
    "    hf = 738.8\n",
    "    hfg = 2034.5\n",
    "    H = 14.43 * WHP + 2481\n",
    "    x=(H-hf)/hfg\n",
    "    MF =  9.35 + 11.85 * WHP - 10.86 * WHP * WHP\n",
    "    WF = MF*(1-x)    \n",
    "    return [H,MF,WF]\n",
    "\n",
    "def PAL12D_fx(WHP):\n",
    "    hf = 738.8\n",
    "    hfg = 2034.5\n",
    "    H = 1292.8 - 304.05 * WHP + 301.84 * WHP * WHP\n",
    "    x=(H-hf)/hfg\n",
    "    MF =  24.39 - 8.21 * WHP + 16.38 * WHP * WHP - 11.21 * WHP * WHP * WHP\n",
    "    WF = MF*(1-x)    \n",
    "    return [H,MF,WF]\n",
    "\n",
    "def PAL13D_fx(WHP):\n",
    "    hf = 738.8\n",
    "    hfg = 2034.5\n",
    "    H = 74.72 * WHP + 1245.94\n",
    "    x=(H-hf)/hfg\n",
    "    MF =  34.55 + 40.33 * WHP - 24.68 * WHP * WHP\n",
    "    WF = MF*(1-x)    \n",
    "    return [H,MF,WF]\n",
    "\n",
    "def PAL14D_fx(WHP):\n",
    "    hf = 738.8\n",
    "    hfg = 2034.5\n",
    "    H = -12.17 * WHP + 1346.78\n",
    "    x=(H-hf)/hfg\n",
    "    MF =  35.35 + 48.67 * WHP - 35.78 * WHP * WHP\n",
    "    WF = MF*(1-x)    \n",
    "    return [H,MF,WF]\n",
    "\n",
    "def PAL15D_fx(WHP):\n",
    "    hf = 738.8\n",
    "    hfg = 2034.5\n",
    "    H = -32.86 * WHP + 1355.61\n",
    "    x=(H-hf)/hfg\n",
    "    MF =  41.96 + 19.86 * WHP - 10.58 * WHP * WHP\n",
    "    WF = MF*(1-x)    \n",
    "    return [H,MF,WF]\n",
    "\n",
    "def PAL18D_fx(WHP):\n",
    "    hf = 738.8\n",
    "    hfg = 2034.5\n",
    "    H = 3.37 * WHP + 1352\n",
    "    x=(H-hf)/hfg\n",
    "    MF =  25.95 - 25.56 * WHP + 44.46 * WHP * WHP - 25.26 * WHP *WHP * WHP\n",
    "    WF = MF*(1-x)    \n",
    "    return [H,MF,WF]\n",
    "\n",
    "def PAL19_fx(WHP):\n",
    "    hf = 738.8\n",
    "    hfg = 2034.5\n",
    "    H = 1569.78 - 129.69 * WHP + 114.83 * WHP * WHP - 60.74 * WHP * WHP * WHP\n",
    "    x=(H-hf)/hfg\n",
    "    MF =  55.49 + 11.24 * WHP + 2.97 * WHP * WHP - 9.03 * WHP * WHP * WHP\n",
    "    WF = MF*(1-x)    \n",
    "    return [H,MF,WF]\n",
    "\n",
    "def PAL20D_fx(WHP):\n",
    "    hf = 738.8\n",
    "    hfg = 2034.5\n",
    "    H = -25.14 * WHP + 1808.22\n",
    "    x=(H-hf)/hfg\n",
    "    MF =  40.42 + 17.96 * WHP - 12.78 * WHP * WHP + 0.92 * WHP * WHP * WHP\n",
    "    WF = MF*(1-x)    \n",
    "    return [H,MF,WF]\n",
    "\n",
    "def PAL21_fx(WHP):\n",
    "    hf = 738.8\n",
    "    hfg = 2034.5\n",
    "    H = -2.84 * WHP + 1169.67\n",
    "    x=(H-hf)/hfg\n",
    "    MF =  18.76 + 27.39 * WHP - 28.93 * WHP * WHP\n",
    "    WF = MF*(1-x)    \n",
    "    return [H,MF,WF]\n",
    "\n",
    "def PAL22D_fx(WHP):\n",
    "    hf = 738.8\n",
    "    hfg = 2034.5\n",
    "    H =  -153.59 * WHP + 1243.42\n",
    "    x=(H-hf)/hfg\n",
    "    MF =  114.33 - 688.68 * WHP + 1920.33 * WHP * WHP - 2600.92 * WHP * WHP * WHP + 1716.36 * WHP * WHP * WHP * WHP - 444.96 * WHP * WHP * WHP * WHP * WHP\n",
    "    WF = MF*(1-x)    \n",
    "    return [H,MF,WF]\n",
    "\n",
    "def PAL23D_fx(WHP):\n",
    "    hf = 738.8\n",
    "    hfg = 2034.5\n",
    "    H = -1.46 * WHP + 1202\n",
    "    x=(H-hf)/hfg\n",
    "    MF =  14.87 + 69.71 * WHP - 93.59 * WHP * WHP + 53.18 * WHP * WHP * WHP - 12.04 * WHP * WHP * WHP * WHP\n",
    "    WF = MF*(1-x)    \n",
    "    return [H,MF,WF]\n",
    "\n",
    "def PAL24D_fx(WHP):\n",
    "    hf = 738.8\n",
    "    hfg = 2034.5\n",
    "    H = -8.17 * WHP + 1397.57\n",
    "    x=(H-hf)/hfg\n",
    "    MF =  35.41 + 21.09 * WHP - 23.50 * WHP * WHP\n",
    "    WF = MF*(1-x)    \n",
    "    return [H,MF,WF]\n",
    "\n",
    "def PAL25D_fx(WHP):\n",
    "    hf = 738.8\n",
    "    hfg = 2034.5\n",
    "    H = -25.03 * WHP + 1189.37\n",
    "    x=(H-hf)/hfg\n",
    "    MF =  3.43 + 83.28 * WHP - 58.30 * WHP * WHP\n",
    "    WF = MF*(1-x)    \n",
    "    return [H,MF,WF]\n",
    "\n",
    "def PAL26D_fx(WHP):\n",
    "    hf = 738.8\n",
    "    hfg = 2034.5\n",
    "    H = 1315.39 - 8.01 * WHP - 7.21 * WHP * WHP\n",
    "    x=(H-hf)/hfg\n",
    "    MF =  45.42 + 3.51 * X - 4.8 * WHP * WHP + 1.5 * WHP * WHP * WHP - 0.2 * WHP * WHP * WHP * WHP\n",
    "    WF = MF*(1-x)    \n",
    "    return [H,MF,WF]\n",
    "\n",
    "def PAL27D_fx(WHP):\n",
    "    hf = 738.8\n",
    "    hfg = 2034.5\n",
    "    H = -109.33 * WHP + 1742.49\n",
    "    x=(H-hf)/hfg\n",
    "    MF = 40.37 - 3.85 * WHP + 7.27 * WHP * WHP - 3.95 * WHP * WHP * WHP\n",
    "    WF = MF*(1-x)    \n",
    "    return [H,MF,WF]\n",
    "\n",
    "def PAL28D_fx(WHP):\n",
    "    hf = 738.8\n",
    "    hfg = 2034.5\n",
    "    H = 1197.63 + 169.54 * WHP - 148.59 * WHP * WHP\n",
    "    x=(H-hf)/hfg\n",
    "    MF = 40.37 - 3.85 * WHP + 7.27 * WHP * WHP - 3.95 * WHP * WHP * WHP\n",
    "    WF = MF*(1-x)    \n",
    "    return [H,MF,WF]\n",
    "\n",
    "def PAL30D_fx(WHP):\n",
    "    hf = 738.8\n",
    "    hfg = 2034.5\n",
    "    H = -8.16 * WHP + 1201.51\n",
    "    x=(H-hf)/hfg\n",
    "    MF = 29.2 + 126.62 * WHP - 63.35 * WHP * WHP\n",
    "    WF = MF*(1-x)    \n",
    "    return [H,MF,WF]\n"
   ]
  },
  {
   "cell_type": "markdown",
   "metadata": {},
   "source": [
    "# MAIN FUNCTION"
   ]
  },
  {
   "cell_type": "code",
   "execution_count": 17,
   "metadata": {
    "collapsed": false
   },
   "outputs": [
    {
     "name": "stdout",
     "output_type": "stream",
     "text": [
      "1347.1148 41.4574 29.061651664 719.971115953 0.933681430584\n",
      "1379.158 24.863782 17.0379173089 702.035312759 0.910421710834\n",
      "1279.321 34.49358597 25.329414143 639.283202776 0.829042779759\n",
      "71.4289831159\n",
      "0.891027415772\n"
     ]
    }
   ],
   "source": [
    "PAL3D = p_well('PAL3D', 0.87, 524.56, 0.88, PAL3D_fx)\n",
    "PAL4D = p_well('PAL4D', 0.97, 404.74, 0.88, PAL4D_fx)\n",
    "PAL8D = p_well('PAL8D', 1.03, 420.08, 0.88, PAL8D_fx)\n",
    "PAL9D = p_well('PAL9D', 0.93, 497.76, 0.88, PAL9D_fx)\n",
    "PAL10D = p_well('PAL10D', 0.97, 273.06, 0.88, PAL10D_fx)\n",
    "PAL11D = p_well('PAL11D', 0.87, 57.12, 0.88, PAL11D_fx)\n",
    "PAL12D = p_well('PAL12D', 1.04, 517.26, 0.88, PAL12D_fx)\n",
    "PAL13D = p_well('PAL13D', 0.95, 480.08, 0.88, PAL13D_fx)\n",
    "PAL14D = p_well('PAL14D', 1.00, 520.22, 0.88, PAL14D_fx)\n",
    "PAL15D = p_well('PAL15D', 0.98, 416.02, 0.88, PAL15D_fx)\n",
    "PAL18D = p_well('PAL18D', 0.87, 427.00, 0.88, PAL18D_fx)\n",
    "PAL19 = p_well('PAL19', 0.98, 492.16, 0.88, PAL19_fx)\n",
    "PAL20D = p_well('PAL20D', 1.03, 415.26, 0.88, PAL20D_fx)\n",
    "PAL21 = p_well('PAL21', 0.92, 594.72, 0.88, PAL21_fx)\n",
    "PAL22D = p_well('PAL22D', 1.02, 478.04, 0.88, PAL22D_fx)\n",
    "PAL23D = p_well('PAL23D', 0.84, 568.62, 0.88, PAL23D_fx)\n",
    "PAL24D = p_well('PAL24D', 0.93, 541.12, 0.88, PAL24D_fx)\n",
    "PAL25D = p_well('PAL25D', 0.92, 422.4, 0.88, PAL25D_fx)\n",
    "PAL26D = p_well('PAL26D', 1.08, 228.48, 0.88, PAL26D_fx)\n",
    "PAL27D = p_well('PAL27D', 1.16, 530.40, 0.88, PAL27D_fx)\n",
    "PAL28D = p_well('PAL28D', 0.85, 492.48, 0.88, PAL28D_fx)\n",
    "PAL30D = p_well('PAL30D', 1.14, 585.97, 0.88, PAL30D_fx)\n",
    "\n",
    "SV501_502 = [PAL9D, PAL4D, PAL3D]\n",
    "total_wf = 0    #initialize total water flow at zero\n",
    "for wells in SV501_502:\n",
    "    print wells.enthalpy, wells.mass_flow, wells.water_flow, wells.sio2_sep, wells.pw_ssi\n",
    "    total_wf = total_wf + wells.water_flow\n",
    "print total_wf\n",
    "sio2_head1 = 0  #initialize silica conc at separator at zero\n",
    "for wells in SV501_502:\n",
    "    water_fraction = wells.water_flow/total_wf\n",
    "    sio2_head1 = sio2_head1 + wells.sio2_sep * (water_fraction)\n",
    "    \n",
    "ssi_head1 = ssi_p(0.88,sio2_head1)\n",
    "print ssi_head1"
   ]
  },
  {
   "cell_type": "markdown",
   "metadata": {},
   "source": [
    "### Define function for branchline"
   ]
  },
  {
   "cell_type": "code",
   "execution_count": 20,
   "metadata": {
    "collapsed": true
   },
   "outputs": [],
   "source": [
    "def svp_header(well_list):\n",
    "    \"\"\"\"\n",
    "    Calculate the water flow and SSI at SVP header given the list of production wells\n",
    "    that suppies two-phase flow to the separator\n",
    "    \"\"\"\n",
    "    total_wf = 0     #initialize total_wf at zero\n",
    "    for wells in well_list:\n",
    "        total_wf = total_wf + wells.water_flow\n",
    "    sio2_head = 0    #initialize sio2 conc at zero; weighted average of sio2 for each well\n",
    "    for wells in well_list:\n",
    "        water_fraction = wells.water_flow / total_wf\n",
    "        sio2_head = sio2_head + wells.sio2_sep * water_fraction\n",
    "    ssi_head = ssi_p(0.88,sio2_head)\n",
    "    return [round(total_wf,2), round(ssi_head,2)]"
   ]
  },
  {
   "cell_type": "code",
   "execution_count": 22,
   "metadata": {
    "collapsed": false
   },
   "outputs": [
    {
     "data": {
      "text/plain": [
       "[71.43, 0.89]"
      ]
     },
     "execution_count": 22,
     "metadata": {},
     "output_type": "execute_result"
    }
   ],
   "source": [
    "#SV301_302 = [PAL8D, PAL20D]\n",
    "#SV303_304 = [PAL12D, PAL14D, PAL23D]\n",
    "#SV305_306 = [PAL11D, PAL18D, PAL19]\n",
    "#SV401_402 = [PAL13D, PAL15D, PAL21, PAL22D, PAL25D]\n",
    "SV403_404 = [PAL3D, PAL4D, PAL9D]\n",
    "#SV405 = [PAL26D, PAL27D, PAL30D]\n",
    "#SV508 = [PAL2D, PAL24D, PAL28D]\n",
    "\n",
    "#assume 722 = Pad E + C and 723 = Pad H and F\n",
    "#RIL722 = [SV301_302, SV303_304, SV305_306, SV508]\n",
    "#RIL723 = [SV401_402, SV403_404, SV405]\n",
    "svp_header(SV403_404)"
   ]
  }
 ],
 "metadata": {
  "kernelspec": {
   "display_name": "Python 2",
   "language": "python",
   "name": "python2"
  },
  "language_info": {
   "codemirror_mode": {
    "name": "ipython",
    "version": 2
   },
   "file_extension": ".py",
   "mimetype": "text/x-python",
   "name": "python",
   "nbconvert_exporter": "python",
   "pygments_lexer": "ipython2",
   "version": "2.7.11"
  }
 },
 "nbformat": 4,
 "nbformat_minor": 0
}
